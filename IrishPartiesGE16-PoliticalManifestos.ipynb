{
 "cells": [
  {
   "cell_type": "markdown",
   "metadata": {},
   "source": [
    " # Irish GE16 Party Manifestos\n",
    "\n",
    "\n",
    "For each party, we plot the wordcloud showing the most frequent words in the party's manifesto.\n",
    "\n",
    "Clicking on the party name will take you to the manifesto pdf.\n",
    "\n",
    "- [DirectDemocracy (Manifesto)](https://www.directdemocracyireland.ie/pdf/ddi_manifesto-2016.pdf)\n",
    "<img src=\"ddi-manifesto.txt-lowres.png\">\n",
    "\n",
    "\n",
    "- [Fianna Fail (Manifesto)](https://www.fiannafail.ie/download/An-Ireland-for-all-Fianna-FaCC81il-Manifesto.pdf)\n",
    "<img src=\"An-Ireland-for-all-Fianna-FaCC81il-Manifesto.txt-lowres.png\">\n",
    "\n",
    "\n",
    "- [Fine Gael (Manifesto)](http://www.finegael.ie/__uuid/7df44e94-e6d4-4744-9f5b-c9ea1f1216d2/FG_GE16_LEP_Final.pdf)\n",
    "<img src=\"FG_GE16_LEP_Final.txt-lowres.png\">\n",
    "\n",
    "\n",
    "- [Green Party (Manifesto)](https://greenparty.ie/wp-content/uploads/2016/02/Manifesto-Reads-3mm-marked-bleed.pdf)\n",
    "<img src=\"GreenParty-Manifesto-Reads-3mm-marked-bleed.txt-lowres.png\">\n",
    "\n",
    "\n",
    "- [Labour (Manifesto)](https://www.labour.ie/download/pdf/labour_launching_a_skills_revolution_hr_1.pdf)\n",
    "<img src=\"labour_launching_a_skills_revolution_hr_1.txt-lowres.png\">\n",
    "\n",
    "\n",
    "- [People Before Profit (Manifesto)](http://www.peoplebeforeprofit.ie/wp-content/uploads/2016/02/Manifesto-up-date-PBP.pdf)\n",
    "<img src=\"Manifesto-up-date-PBP.txt-lowres.png\">\n",
    "\n",
    "\n",
    "- [Renua (Manifesto)](http://www.renuaireland.com/wp-content/uploads/2016/01/RENUA-Manifesto.pdf)\n",
    "<img src=\"renua-manifesto.txt-lowres.png \">\n",
    "\n",
    "\n",
    "- [Sinn Fein (Manifesto)](https://www.sinnfein.ie/files/2016/GE2016ElectionManifesto.pdf)\n",
    "<img src=\"sinnfein-manifesto-english.txt-lowres.png\">\n",
    "\n",
    "\n",
    "- [SocialDemocrats (Manifesto)](https://drive.google.com/a/insight-centre.org/file/d/0B7hTX_nop6XkRGdURzVoendyQzQ/view)\n",
    "<img src=\"socialdemocrats-manifesto.txt-lowres.png\">"
   ]
  },
  {
   "cell_type": "code",
   "execution_count": null,
   "metadata": {
    "collapsed": true
   },
   "outputs": [],
   "source": []
  }
 ],
 "metadata": {
  "kernelspec": {
   "display_name": "Python 3",
   "language": "python",
   "name": "python3"
  },
  "language_info": {
   "codemirror_mode": {
    "name": "ipython",
    "version": 3
   },
   "file_extension": ".py",
   "mimetype": "text/x-python",
   "name": "python",
   "nbconvert_exporter": "python",
   "pygments_lexer": "ipython3",
   "version": "3.5.0"
  }
 },
 "nbformat": 4,
 "nbformat_minor": 0
}
